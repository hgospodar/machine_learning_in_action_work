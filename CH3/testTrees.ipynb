{
 "cells": [
  {
   "cell_type": "code",
   "execution_count": 3,
   "metadata": {},
   "outputs": [
    {
     "name": "stdout",
     "output_type": "stream",
     "text": [
      "[[1 2 3 4]\n",
      " [2 3 4 5]\n",
      " [6 7 8 9]]\n",
      "[1 2 3 4]\n",
      "[2 3 4 5]\n",
      "[6 7 8 9]\n"
     ]
    }
   ],
   "source": [
    "import numpy as np\n",
    "a = np.array(([1,2,3,4],[2,3,4,5],[6,7,8,9]))\n",
    "print(a)\n",
    "for b in a:\n",
    "    print(b)"
   ]
  },
  {
   "cell_type": "code",
   "execution_count": 5,
   "metadata": {},
   "outputs": [
    {
     "name": "stdout",
     "output_type": "stream",
     "text": [
      "[[1, 1, 'yes'], [1, 1, 'yes'], [1, 0, 'no'], [0, 1, 'no'], [0, 1, 'no']]\n",
      "0.9709505944546686\n",
      "1.3709505944546687\n"
     ]
    }
   ],
   "source": [
    "#p36 calc shannonEnt\n",
    "import importlib\n",
    "import trees\n",
    "importlib.reload(trees)\n",
    "myDat, labels = trees.createDataSet()\n",
    "print(myDat)\n",
    "ent = trees.calcShannonEnt(myDat)\n",
    "print(ent)\n",
    "myDat[0][-1] = 'maybe'\n",
    "ent2 = trees.calcShannonEnt(myDat)\n",
    "print(ent2)"
   ]
  },
  {
   "cell_type": "code",
   "execution_count": 11,
   "metadata": {},
   "outputs": [
    {
     "name": "stdout",
     "output_type": "stream",
     "text": [
      "[[1, 'yes'], [1, 'yes'], [0, 'no']] \n",
      " [[1, 'no'], [1, 'no']]\n"
     ]
    }
   ],
   "source": [
    "#p38 extract feature\n",
    "importlib.reload(trees)\n",
    "myDat, labels = trees.createDataSet()\n",
    "ex_0_1 = trees.splitDataSet(myDat, 0, 1)\n",
    "ex_0_0 = trees.splitDataSet(myDat, 0, 0)\n",
    "print(ex_0_1,'\\n',ex_0_0)"
   ]
  },
  {
   "cell_type": "code",
   "execution_count": 15,
   "metadata": {},
   "outputs": [
    {
     "name": "stdout",
     "output_type": "stream",
     "text": [
      "0.5509775004326937\n",
      "0.8\n",
      "0\n",
      "[[1, 1, 'yes'], [1, 1, 'yes'], [1, 0, 'no'], [0, 1, 'no'], [0, 1, 'no']]\n"
     ]
    }
   ],
   "source": [
    "#p39\n",
    "importlib.reload(trees)\n",
    "myDat, labels = trees.createDataSet()\n",
    "f0_sp = trees.chooseBestFeatureToSplit(myDat)\n",
    "print(f0_sp)\n",
    "print(myDat)"
   ]
  },
  {
   "cell_type": "code",
   "execution_count": 18,
   "metadata": {},
   "outputs": [
    {
     "name": "stdout",
     "output_type": "stream",
     "text": [
      "0\n",
      "no surfacing\n",
      "{'no surfacing': {}}\n",
      "0\n",
      "flippers\n",
      "{'flippers': {}}\n",
      "{'no surfacing': {0: 'no', 1: {'flippers': {0: 'no', 1: 'yes'}}}}\n"
     ]
    }
   ],
   "source": [
    "#p42 create decision tree\n",
    "importlib.reload(trees)\n",
    "myDat, labels = trees.createDataSet()\n",
    "myTree = trees.createTree(myDat, labels)\n",
    "print(myTree)"
   ]
  },
  {
   "cell_type": "code",
   "execution_count": 17,
   "metadata": {},
   "outputs": [
    {
     "name": "stdout",
     "output_type": "stream",
     "text": [
      "[1, 2, 3, [4, 5, 6]]\n",
      "[1, 2, 3, [4, 5, 6], 4, 5, 6]\n",
      "<class 'set'>\n",
      "{2, 3, 4}\n",
      "2\n",
      "[1, 3, 3, 3, 4, 4]\n"
     ]
    }
   ],
   "source": [
    "# test\n",
    "a = [1,2,3]\n",
    "b = [4,5,6]\n",
    "a.append(b)\n",
    "print(a)\n",
    "a.extend(b)\n",
    "print(a)\n",
    "a = [2,2,2,2,3,3,4]\n",
    "b = set(a)\n",
    "print(type(b))\n",
    "print(b)\n",
    "a = [1,2,3,3,3,4,4]\n",
    "print(a.count(4))\n",
    "del(a[1])\n",
    "print(a)"
   ]
  },
  {
   "cell_type": "code",
   "execution_count": 11,
   "metadata": {},
   "outputs": [
    {
     "data": {
      "image/png": "[encoded data removed]",
      "text/plain": [
       "<Figure size 640x480 with 1 Axes>"
      ]
     },
     "metadata": {},
     "output_type": "display_data"
    }
   ],
   "source": [
    "import importlib\n",
    "import treePlotter\n",
    "importlib.reload(treePlotter)\n",
    "treePlotter.createPlot()"
   ]
  },
  {
   "cell_type": "code",
   "execution_count": 8,
   "metadata": {},
   "outputs": [
    {
     "name": "stdout",
     "output_type": "stream",
     "text": [
      "N(leafs) = 3, depth = 2\n"
     ]
    }
   ],
   "source": [
    "importlib.reload(treePlotter)\n",
    "\n",
    "myTree = treePlotter.retrieveTree(0)\n",
    "numLeafs = treePlotter.getNumLeafs(myTree)\n",
    "depth = treePlotter.getTreeDepth(myTree)\n",
    "print(\"N(leafs) = %d, depth = %d\"%(numLeafs, depth))"
   ]
  },
  {
   "cell_type": "code",
   "execution_count": 9,
   "metadata": {},
   "outputs": [
    {
     "name": "stdout",
     "output_type": "stream",
     "text": [
      "(1, 2, 3) <class 'tuple'>\n"
     ]
    }
   ],
   "source": [
    "a = (1,2,3)\n",
    "print(a,type(a))"
   ]
  }
 ],
 "metadata": {
  "kernelspec": {
   "display_name": "Python 3",
   "language": "python",
   "name": "python3"
  },
  "language_info": {
   "codemirror_mode": {
    "name": "ipython",
    "version": 3
   },
   "file_extension": ".py",
   "mimetype": "text/x-python",
   "name": "python",
   "nbconvert_exporter": "python",
   "pygments_lexer": "ipython3",
   "version": "3.11.2"
  },
  "orig_nbformat": 4
 },
 "nbformat": 4,
 "nbformat_minor": 2
}
